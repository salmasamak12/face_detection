{
 "cells": [
  {
   "cell_type": "code",
   "execution_count": 47,
   "id": "8de1609d-2aa6-4b37-be41-61238d9b25bf",
   "metadata": {},
   "outputs": [
    {
     "name": "stdout",
     "output_type": "stream",
     "text": [
      "Overwriting face_detection_app.py\n"
     ]
    }
   ],
   "source": [
    "%%writefile face_detection_app.py\n",
    "\n",
    "import cv2\n",
    "import numpy as np\n",
    "import streamlit as st\n",
    "from PIL import Image\n",
    "import mediapipe as mp\n",
    "\n",
    "st.title('Faca Dedection Application')\n",
    "\n",
    "upload = st.file_uploader('choose an image ...',type =['png','jpeg','jpg'])\n",
    "\n",
    "def detect_face(img):\n",
    "    face_detection=mp.solutions.face_detection #model\n",
    "    drawing = mp.solutions.drawing_utils\n",
    "\n",
    "    with face_detection.FaceDetection() as face_detection:\n",
    "        result = face_detection.process(cv2.cvtColor(img,cv2.COLOR_BGR2RGB))\n",
    "        if result.detections:\n",
    "            for i in result.detections:\n",
    "                drawing.draw_detection(img,i)\n",
    "\n",
    "    return img\n",
    "    \n",
    "if upload is not None:\n",
    "    image=Image.open(upload)\n",
    "    image=np.array(image)\n",
    "    image = cv2.cvtColor(image, cv2.COLOR_RGB2BGR)\n",
    "\n",
    "    result=detect_face(image)\n",
    "    st.image(result, channels = 'BGR')\n",
    "    "
   ]
  },
  {
   "cell_type": "code",
   "execution_count": null,
   "id": "31bbd6f6-06a3-468a-8ac9-da2aae60b130",
   "metadata": {},
   "outputs": [],
   "source": []
  }
 ],
 "metadata": {
  "kernelspec": {
   "display_name": "Python [conda env:base] *",
   "language": "python",
   "name": "conda-base-py"
  },
  "language_info": {
   "codemirror_mode": {
    "name": "ipython",
    "version": 3
   },
   "file_extension": ".py",
   "mimetype": "text/x-python",
   "name": "python",
   "nbconvert_exporter": "python",
   "pygments_lexer": "ipython3",
   "version": "3.12.7"
  }
 },
 "nbformat": 4,
 "nbformat_minor": 5
}
